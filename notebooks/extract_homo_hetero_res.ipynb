{
 "cells": [
  {
   "cell_type": "code",
   "execution_count": 1,
   "id": "7be37593-bf50-4fc1-b617-ff93ca3fb707",
   "metadata": {
    "execution": {
     "iopub.execute_input": "2024-05-17T00:52:13.803809Z",
     "iopub.status.busy": "2024-05-17T00:52:13.803058Z",
     "iopub.status.idle": "2024-05-17T00:52:13.817301Z",
     "shell.execute_reply": "2024-05-17T00:52:13.816064Z",
     "shell.execute_reply.started": "2024-05-17T00:52:13.803761Z"
    },
    "tags": []
   },
   "outputs": [],
   "source": [
    "import sys\n",
    "sys.path.append(\"../mypkg\")"
   ]
  },
  {
   "cell_type": "code",
   "execution_count": 2,
   "id": "91ac97e6-00aa-46a1-85cb-5b2a3c41e0e0",
   "metadata": {
    "execution": {
     "iopub.execute_input": "2024-05-17T00:52:14.228222Z",
     "iopub.status.busy": "2024-05-17T00:52:14.227570Z",
     "iopub.status.idle": "2024-05-17T00:52:15.572425Z",
     "shell.execute_reply": "2024-05-17T00:52:15.571166Z",
     "shell.execute_reply.started": "2024-05-17T00:52:14.228175Z"
    },
    "tags": []
   },
   "outputs": [],
   "source": [
    "from constants import RES_ROOT, FIG_ROOT, DATA_ROOT, MID_ROOT\n",
    "from utils.misc import load_pkl, save_pkl, merge_intervals\n",
    "from utils.colors import qual_cmap\n",
    "from utils.stats import weighted_quantile"
   ]
  },
  {
   "cell_type": "code",
   "execution_count": 3,
   "id": "f1775f04-ea35-40dc-90e8-61a284a9daf2",
   "metadata": {
    "execution": {
     "iopub.execute_input": "2024-05-17T00:52:15.575860Z",
     "iopub.status.busy": "2024-05-17T00:52:15.575250Z",
     "iopub.status.idle": "2024-05-17T00:52:15.598553Z",
     "shell.execute_reply": "2024-05-17T00:52:15.598027Z",
     "shell.execute_reply.started": "2024-05-17T00:52:15.575824Z"
    },
    "tags": []
   },
   "outputs": [],
   "source": [
    "%load_ext autoreload\n",
    "%autoreload 2\n",
    "# 0,1, 2, 3, be careful about the space"
   ]
  },
  {
   "cell_type": "code",
   "execution_count": 4,
   "id": "90d1fe06-f921-466f-a1c5-32f8f1e438f3",
   "metadata": {
    "execution": {
     "iopub.execute_input": "2024-05-17T00:52:15.599408Z",
     "iopub.status.busy": "2024-05-17T00:52:15.599203Z",
     "iopub.status.idle": "2024-05-17T00:52:17.441075Z",
     "shell.execute_reply": "2024-05-17T00:52:17.440082Z",
     "shell.execute_reply.started": "2024-05-17T00:52:15.599391Z"
    },
    "tags": []
   },
   "outputs": [],
   "source": [
    "import torch\n",
    "import scipy.stats as ss\n",
    "import numpy as np\n",
    "from easydict import EasyDict as edict\n",
    "import matplotlib.pyplot as plt\n",
    "import seaborn as sns\n",
    "from collections import defaultdict as ddict\n",
    "from tqdm import tqdm, trange\n",
    "import random\n",
    "from joblib import Parallel, delayed\n",
    "import pandas as pd\n",
    "from pprint import pprint\n",
    "plt.style.use(FIG_ROOT/\"base.mplstyle\")"
   ]
  },
  {
   "cell_type": "code",
   "execution_count": 5,
   "id": "e79682dc-16fa-4f9e-95e8-29db9892a33c",
   "metadata": {
    "execution": {
     "iopub.execute_input": "2024-05-17T00:52:17.643960Z",
     "iopub.status.busy": "2024-05-17T00:52:17.643245Z",
     "iopub.status.idle": "2024-05-17T00:52:17.678448Z",
     "shell.execute_reply": "2024-05-17T00:52:17.677340Z",
     "shell.execute_reply.started": "2024-05-17T00:52:17.643912Z"
    },
    "tags": []
   },
   "outputs": [],
   "source": [
    "pd.set_option('display.float_format', '{:.3f}'.format)"
   ]
  },
  {
   "cell_type": "code",
   "execution_count": 6,
   "id": "ada9ae7b-954d-461a-bcce-02c928261ac2",
   "metadata": {
    "execution": {
     "iopub.execute_input": "2024-05-17T00:52:20.321688Z",
     "iopub.status.busy": "2024-05-17T00:52:20.321023Z",
     "iopub.status.idle": "2024-05-17T00:52:20.364579Z",
     "shell.execute_reply": "2024-05-17T00:52:20.363821Z",
     "shell.execute_reply.started": "2024-05-17T00:52:20.321642Z"
    },
    "tags": []
   },
   "outputs": [],
   "source": [
    "from collections import defaultdict as ddict\n",
    "def fil_name2paras(fil_name):\n",
    "    \"\"\"plz be careful about 0.1 and 1\n",
    "    \"\"\"\n",
    "    tmp = fil_name.split(\"_\")\n",
    "    paras = {}\n",
    "    for itm in tmp:\n",
    "        if '--' in itm:\n",
    "            k, v = itm.split(\"--\")\n",
    "            v = f\"0.{v}\"\n",
    "        elif '-' in itm:\n",
    "            k, v = itm.split(\"-\")\n",
    "            # to be compatible with old simu\n",
    "            if v.startswith(\"0\"):\n",
    "                v = f\"0.{v}\"\n",
    "        else:\n",
    "            continue\n",
    "        \n",
    "        if k.startswith(\"T\"):\n",
    "            k = \"n_T\"\n",
    "        elif k.startswith(\"decay\"):\n",
    "            k = \"weight_decay\"\n",
    "        elif k.startswith(\"infeat\"):\n",
    "            k = \"n_infeat\"\n",
    "        paras[k] = float(v)\n",
    "    paras[\"rep\"] = int(tmp[1])\n",
    "    return paras\n"
   ]
  },
  {
   "cell_type": "code",
   "execution_count": 7,
   "id": "e8393456-5db1-482d-baa8-1af8d14c99ab",
   "metadata": {
    "execution": {
     "iopub.execute_input": "2024-05-17T00:52:20.798932Z",
     "iopub.status.busy": "2024-05-17T00:52:20.798373Z",
     "iopub.status.idle": "2024-05-17T00:52:20.835609Z",
     "shell.execute_reply": "2024-05-17T00:52:20.835005Z",
     "shell.execute_reply.started": "2024-05-17T00:52:20.798864Z"
    },
    "tags": []
   },
   "outputs": [
    {
     "data": {
      "text/plain": [
       "[0, 0.02, 0.04, 0.06, 0.08, 0.1, 0.2, 0.4, 0.8, 1.2]"
      ]
     },
     "execution_count": 7,
     "metadata": {},
     "output_type": "execute_result"
    }
   ],
   "source": [
    "cs = [0, 0.02, 0.04, 0.06, 0.08, 0.1, 0.2, 0.4, 0.8, 1.2]"
   ]
  },
  {
   "cell_type": "markdown",
   "id": "651b0dc0-ac18-4763-a982-0779954d21d8",
   "metadata": {},
   "source": [
    "# HOMO"
   ]
  },
  {
   "cell_type": "code",
   "execution_count": 8,
   "id": "5ade2d7d-56d6-4c9f-80b9-f1202033f091",
   "metadata": {
    "execution": {
     "iopub.execute_input": "2024-05-08T22:40:07.860345Z",
     "iopub.status.busy": "2024-05-08T22:40:07.859735Z",
     "iopub.status.idle": "2024-05-08T22:40:50.997032Z",
     "shell.execute_reply": "2024-05-08T22:40:50.995873Z",
     "shell.execute_reply.started": "2024-05-08T22:40:07.860298Z"
    },
    "tags": []
   },
   "outputs": [
    {
     "name": "stdout",
     "output_type": "stream",
     "text": [
      "Save to /data/rajlab1/user_data/jin/MyResearch/DG-CITE_paper/notebooks/../mypkg/../mid_results/tmpdf_setting1_d10_lcpw0.pkl\n",
      "Save to /data/rajlab1/user_data/jin/MyResearch/DG-CITE_paper/notebooks/../mypkg/../mid_results/tmpdf_setting2_d10_lcpw0.pkl\n",
      "Save to /data/rajlab1/user_data/jin/MyResearch/DG-CITE_paper/notebooks/../mypkg/../mid_results/tmpdf_setting3_d10_lcpw0.pkl\n",
      "Save to /data/rajlab1/user_data/jin/MyResearch/DG-CITE_paper/notebooks/../mypkg/../mid_results/tmpdf_setting4_d10_lcpw0.pkl\n",
      "Save to /data/rajlab1/user_data/jin/MyResearch/DG-CITE_paper/notebooks/../mypkg/../mid_results/tmpdf_setting1_d100_lcpw0.pkl\n",
      "Save to /data/rajlab1/user_data/jin/MyResearch/DG-CITE_paper/notebooks/../mypkg/../mid_results/tmpdf_setting2_d100_lcpw0.pkl\n",
      "Save to /data/rajlab1/user_data/jin/MyResearch/DG-CITE_paper/notebooks/../mypkg/../mid_results/tmpdf_setting3_d100_lcpw0.pkl\n",
      "Save to /data/rajlab1/user_data/jin/MyResearch/DG-CITE_paper/notebooks/../mypkg/../mid_results/tmpdf_setting4_d100_lcpw0.pkl\n",
      "Save to /data/rajlab1/user_data/jin/MyResearch/DG-CITE_paper/notebooks/../mypkg/../mid_results/tmpdf_setting1_d300_lcpw0.pkl\n",
      "Save to /data/rajlab1/user_data/jin/MyResearch/DG-CITE_paper/notebooks/../mypkg/../mid_results/tmpdf_setting2_d300_lcpw0.pkl\n",
      "Save to /data/rajlab1/user_data/jin/MyResearch/DG-CITE_paper/notebooks/../mypkg/../mid_results/tmpdf_setting3_d300_lcpw0.pkl\n",
      "Save to /data/rajlab1/user_data/jin/MyResearch/DG-CITE_paper/notebooks/../mypkg/../mid_results/tmpdf_setting4_d300_lcpw0.pkl\n",
      "Save to /data/rajlab1/user_data/jin/MyResearch/DG-CITE_paper/notebooks/../mypkg/../mid_results/tmpdf_setting1_d1000_lcpw0.pkl\n",
      "Save to /data/rajlab1/user_data/jin/MyResearch/DG-CITE_paper/notebooks/../mypkg/../mid_results/tmpdf_setting2_d1000_lcpw0.pkl\n",
      "Save to /data/rajlab1/user_data/jin/MyResearch/DG-CITE_paper/notebooks/../mypkg/../mid_results/tmpdf_setting3_d1000_lcpw0.pkl\n",
      "Save to /data/rajlab1/user_data/jin/MyResearch/DG-CITE_paper/notebooks/../mypkg/../mid_results/tmpdf_setting4_d1000_lcpw0.pkl\n"
     ]
    }
   ],
   "source": [
    "for d in [10, 300]:\n",
    "    for s in [1, 2, 3]:\n",
    "        setting = f\"setting{s}\"\n",
    "        \n",
    "        # get results of DDIM and naive\n",
    "        def _add_res(res, key, dict_res):\n",
    "            if key not in res.keys():\n",
    "                key = \"L\" + key\n",
    "                if key not in res.keys():\n",
    "                    return None\n",
    "            dict_res[\"Len\"].append(res[key][-1])\n",
    "            dict_res[\"ITE\"].append(res[key][0])\n",
    "            if key.startswith(\"DDIM\"):\n",
    "                dict_res[\"method\"].append(\"L\"+key)\n",
    "            else:\n",
    "                dict_res[\"method\"].append(key)\n",
    "            for ky, v in cur_paras.items():\n",
    "                dict_res[ky].append(v)\n",
    "            dict_res[\"c\"].append(c)\n",
    "                \n",
    "        our_res = ddict(list)\n",
    "        for c in cs:\n",
    "            res_dir = RES_ROOT/f\"simuLCPHOMO_{setting}_d{d}_n10000_c{c*100:.0f}\"\n",
    "            all_fils = list(res_dir.glob(\"*n_T-*.pkl\"));\n",
    "            for fil in all_fils:\n",
    "                cur_paras = fil_name2paras(fil.stem);\n",
    "                res = load_pkl(fil, verbose=False);\n",
    "                \n",
    "                _add_res(res, key=\"DDIM\", dict_res=our_res)\n",
    "                _add_res(res, key=\"DDIM_val\", dict_res=our_res)\n",
    "                _add_res(res, key=\"naive\", dict_res=our_res)\n",
    "                _add_res(res, key=\"naive_val\", dict_res=our_res)\n",
    "                _add_res(res, key=\"MLP\", dict_res=our_res)\n",
    "                _add_res(res, key=\"MLP_val\", dict_res=our_res)\n",
    "                \n",
    "                for model_ix in range(500, 6000, 500):\n",
    "                    _add_res(res, key=f\"DDIM_ep{model_ix}\", dict_res=our_res)\n",
    "                    _add_res(res, key=f\"DDIM_ep{model_ix}_val\", dict_res=our_res)\n",
    "                    _add_res(res, key=f\"naive_ep{model_ix}\", dict_res=our_res)\n",
    "                    _add_res(res, key=f\"naive_ep{model_ix}_val\",dict_res=our_res)\n",
    "                    _add_res(res, key=f\"MLP_ep{model_ix}\", dict_res=our_res)\n",
    "                    _add_res(res, key=f\"MLP_ep{model_ix}_val\", dict_res=our_res)\n",
    "                \n",
    "        our_res_df = pd.DataFrame(our_res);\n",
    "        \n",
    "        # results of CQR and CF\n",
    "        def _add_ores(res, key, dict_res):\n",
    "            if key not in res.keys():\n",
    "                return None\n",
    "            dict_res[\"Len\"].append(res[key][-1])\n",
    "            dict_res[\"ITE\"].append(res[key][0])\n",
    "            dict_res[\"method\"].append(key)\n",
    "            dict_res[\"rep\"].append(_get_rep(ofil))\n",
    "        _get_rep = lambda p: int(p.stem.split(\"_\")[1])\n",
    "        ores_dir = RES_ROOT/f\"simuLCPHOMO_{setting}_d{d}_n10000_c0\"\n",
    "        ofils = list(res_dir.glob(\"*other*.pkl\"));\n",
    "        \n",
    "        other_res = ddict(list);\n",
    "        for ofil in ofils:\n",
    "            res = load_pkl(ofil, verbose=False);\n",
    "            _add_ores(res, key=\"CQR\", dict_res=other_res)\n",
    "            _add_ores(res, key=\"CF\", dict_res=other_res)\n",
    "        other_res_df = pd.DataFrame(other_res);\n",
    "        \n",
    "        \n",
    "        # DDIM and MLP and naive results (no LCP)\n",
    "        our_res_df0 = our_res_df[our_res_df[\"c\"]==0].copy();\n",
    "        our_res_df0[\"method\"] = our_res_df0[\"method\"].apply(lambda x: x[1:] if x.startswith(\"L\") else x)\n",
    "        # LDDIM results\n",
    "        tmp_idx = our_res_df.apply(lambda x: \"naive\" not in x[\"method\"], axis=1)\n",
    "        our_res_df1 = our_res_df[tmp_idx].copy();\n",
    "        our_res_df1.index = np.arange(0, our_res_df1.shape[0])\n",
    "        \n",
    "        # get opt obs based on val set\n",
    "        def _get_opt_obs_given_repix(rep_ix, all_res_df, method_key=\"DDPM\", cutoff=None):\n",
    "            cols = [\"method\", \"lr\", \"n_infeat\", \"n_T\", \"weight_decay\", \"upblk\", \"downblk\", \"rep\", \"c\"]\n",
    "            kpidx = np.bitwise_and(all_res_df[\"rep\"] == rep_ix, \n",
    "                                   all_res_df[\"method\"].map(lambda x: (\"val\" in x) and (method_key in x)));\n",
    "            if cutoff is not None:\n",
    "                kpidx1 = np.bitwise_and(kpidx, all_res_df[\"ITE\"]>cutoff)\n",
    "            if kpidx1.sum() > 0:\n",
    "                kpidx = kpidx1\n",
    "                best_val = all_res_df[kpidx].sort_values(by=\"Len\").iloc[0]\n",
    "            else:\n",
    "                # if no prob > target, use the one with largest prb\n",
    "                best_val = all_res_df[kpidx].sort_values(by=\"ITE\").iloc[-1]\n",
    "            mask = np.ones(all_res_df.shape[0], dtype=bool)\n",
    "            for col in cols:\n",
    "                if col.startswith(\"method\"):\n",
    "                    #v = best_val[col]\n",
    "                    v = best_val[col].split(\"_val\")[0]\n",
    "                    mask = np.bitwise_and(mask, all_res_df[col].isin([v]))\n",
    "                    \n",
    "                else: \n",
    "                    v = best_val[col]\n",
    "                    mask = np.bitwise_and(mask, all_res_df[col] == v)\n",
    "            return all_res_df[mask]\n",
    "        \n",
    "        #our_res_df1 = our_res_df\n",
    "        best_res = []\n",
    "        cutoff = 0.95\n",
    "        for cur_rep in list(set(our_res_df0[\"rep\"])):\n",
    "            best_res.append(_get_opt_obs_given_repix(cur_rep, our_res_df0, \"naive\", cutoff))\n",
    "            best_res.append(_get_opt_obs_given_repix(cur_rep, our_res_df0, \"DDIM\", cutoff))\n",
    "            best_res.append(_get_opt_obs_given_repix(cur_rep, our_res_df0, \"MLP\", cutoff))\n",
    "            best_res.append(_get_opt_obs_given_repix(cur_rep, our_res_df1, \"LDDIM\", cutoff))\n",
    "            \n",
    "        best_res = pd.concat(best_res);\n",
    "        best_res1 = best_res.copy();\n",
    "        best_res[\"method\"] = best_res[\"method\"].map(lambda x: x.split(\"_\")[0])\n",
    "        best_res = best_res[[\"Len\", \"ITE\", \"method\", \"rep\"]];\n",
    "        \n",
    "        # put the results together\n",
    "        all_res_df = pd.concat([best_res, other_res_df])\n",
    "        all_res_df.groupby([\"method\"])[[\"Len\", \"ITE\"]].agg([\"mean\", \"median\", \"std\", \"count\"])\n",
    "        save_pkl(MID_ROOT/f\"tmpdf_{setting}_d{d}_lcpw0.pkl\", all_res_df, is_force=True);"
   ]
  },
  {
   "cell_type": "code",
   "execution_count": null,
   "id": "220d6fca-4f0f-4707-ba8b-6b6dc3fb5d2d",
   "metadata": {
    "tags": []
   },
   "outputs": [],
   "source": []
  },
  {
   "cell_type": "markdown",
   "id": "784454dd-2501-4e72-8503-f51b3c1bf420",
   "metadata": {},
   "source": [
    "#  Hetero"
   ]
  },
  {
   "cell_type": "code",
   "execution_count": 9,
   "id": "ef3e7b85-50bd-4890-af63-f5ad4123cc84",
   "metadata": {
    "execution": {
     "iopub.execute_input": "2024-05-08T22:40:50.999487Z",
     "iopub.status.busy": "2024-05-08T22:40:50.999003Z",
     "iopub.status.idle": "2024-05-08T22:42:30.990683Z",
     "shell.execute_reply": "2024-05-08T22:42:30.989439Z",
     "shell.execute_reply.started": "2024-05-08T22:40:50.999446Z"
    },
    "tags": []
   },
   "outputs": [
    {
     "name": "stdout",
     "output_type": "stream",
     "text": [
      "Save to /data/rajlab1/user_data/jin/MyResearch/DG-CITE_paper/notebooks/../mypkg/../mid_results/tmpdf_setting5_d10_lcpw0.pkl\n",
      "Save to /data/rajlab1/user_data/jin/MyResearch/DG-CITE_paper/notebooks/../mypkg/../mid_results/tmpdf_setting6_d10_lcpw0.pkl\n",
      "Save to /data/rajlab1/user_data/jin/MyResearch/DG-CITE_paper/notebooks/../mypkg/../mid_results/tmpdf_setting7_d10_lcpw0.pkl\n",
      "Save to /data/rajlab1/user_data/jin/MyResearch/DG-CITE_paper/notebooks/../mypkg/../mid_results/tmpdf_setting8_d10_lcpw0.pkl\n",
      "Save to /data/rajlab1/user_data/jin/MyResearch/DG-CITE_paper/notebooks/../mypkg/../mid_results/tmpdf_setting5_d100_lcpw0.pkl\n",
      "Save to /data/rajlab1/user_data/jin/MyResearch/DG-CITE_paper/notebooks/../mypkg/../mid_results/tmpdf_setting6_d100_lcpw0.pkl\n",
      "Save to /data/rajlab1/user_data/jin/MyResearch/DG-CITE_paper/notebooks/../mypkg/../mid_results/tmpdf_setting7_d100_lcpw0.pkl\n",
      "Save to /data/rajlab1/user_data/jin/MyResearch/DG-CITE_paper/notebooks/../mypkg/../mid_results/tmpdf_setting8_d100_lcpw0.pkl\n",
      "Save to /data/rajlab1/user_data/jin/MyResearch/DG-CITE_paper/notebooks/../mypkg/../mid_results/tmpdf_setting5_d300_lcpw0.pkl\n",
      "Save to /data/rajlab1/user_data/jin/MyResearch/DG-CITE_paper/notebooks/../mypkg/../mid_results/tmpdf_setting6_d300_lcpw0.pkl\n",
      "Save to /data/rajlab1/user_data/jin/MyResearch/DG-CITE_paper/notebooks/../mypkg/../mid_results/tmpdf_setting7_d300_lcpw0.pkl\n",
      "Save to /data/rajlab1/user_data/jin/MyResearch/DG-CITE_paper/notebooks/../mypkg/../mid_results/tmpdf_setting8_d300_lcpw0.pkl\n",
      "Save to /data/rajlab1/user_data/jin/MyResearch/DG-CITE_paper/notebooks/../mypkg/../mid_results/tmpdf_setting5_d1000_lcpw0.pkl\n",
      "Save to /data/rajlab1/user_data/jin/MyResearch/DG-CITE_paper/notebooks/../mypkg/../mid_results/tmpdf_setting6_d1000_lcpw0.pkl\n",
      "Save to /data/rajlab1/user_data/jin/MyResearch/DG-CITE_paper/notebooks/../mypkg/../mid_results/tmpdf_setting7_d1000_lcpw0.pkl\n",
      "Save to /data/rajlab1/user_data/jin/MyResearch/DG-CITE_paper/notebooks/../mypkg/../mid_results/tmpdf_setting8_d1000_lcpw0.pkl\n"
     ]
    }
   ],
   "source": [
    "for d in [10, 300]:\n",
    "    for s in [4, 5, 6]:\n",
    "        setting = f\"setting{s}\"\n",
    "        \n",
    "        # get results of DDIM and naive\n",
    "        def _add_res(res, key, dict_res):\n",
    "            if key not in res.keys():\n",
    "                key = \"L\" + key\n",
    "                if key not in res.keys():\n",
    "                    return None\n",
    "            dict_res[\"Len\"].append(res[key][-1])\n",
    "            dict_res[\"ITE\"].append(res[key][0])\n",
    "            if key.startswith(\"DDIM\"):\n",
    "                dict_res[\"method\"].append(\"L\"+key)\n",
    "            else:\n",
    "                dict_res[\"method\"].append(key)\n",
    "            for ky, v in cur_paras.items():\n",
    "                dict_res[ky].append(v)\n",
    "            dict_res[\"c\"].append(c)\n",
    "                \n",
    "        our_res = ddict(list)\n",
    "        for c in cs:\n",
    "            res_dir = RES_ROOT/f\"simuLCPHETERO_{setting}_d{d}_n10000_c{c*100:.0f}\"\n",
    "            all_fils = list(res_dir.glob(\"*n_T-*.pkl\"));\n",
    "            for fil in all_fils:\n",
    "                cur_paras = fil_name2paras(fil.stem);\n",
    "                res = load_pkl(fil, verbose=False);\n",
    "                \n",
    "                for ky in res.keys():\n",
    "                    _add_res(res, key=ky, dict_res=our_res)\n",
    "                    \n",
    "                    \n",
    "        our_res_df = pd.DataFrame(our_res);\n",
    "        \n",
    "        \n",
    "        def _get_dataset(name):\n",
    "            name = name.split(\"_ep\")[0].split(\"_val\")[0]\n",
    "            if name.endswith(\"1\"):\n",
    "                dat_set = \"set1\"\n",
    "            else:\n",
    "                dat_set = \"all_data\"\n",
    "            return dat_set\n",
    "        \n",
    "        def _get_nep(x):\n",
    "            vs = x.split(\"_ep\")\n",
    "            if len(vs) == 1:\n",
    "                return 2000\n",
    "            elif len(vs) == 2:\n",
    "                return int(vs[1].split(\"_\")[0])\n",
    "        _raw_method=lambda x: x.split(\"_\")[0].split(\"1\")[0].split(\"2\")[0]\n",
    "        our_res_df[\"data_set\"] = our_res_df[\"method\"].map(_get_dataset);\n",
    "        our_res_df[\"is_val\"] = our_res_df[\"method\"].map(lambda x: x.endswith(\"val\"));\n",
    "        our_res_df[\"nep\"] = our_res_df[\"method\"].map(_get_nep);\n",
    "        our_res_df[\"method_raw\"] = our_res_df[\"method\"].map(_raw_method)\n",
    "        \n",
    "        \n",
    "        # results of CQR and CF\n",
    "        def _add_ores(res, key, dict_res):\n",
    "            if key not in res.keys():\n",
    "                return None\n",
    "            dict_res[\"Len\"].append(res[key][-1])\n",
    "            dict_res[\"ITE\"].append(res[key][0])\n",
    "            dict_res[\"method\"].append(key)\n",
    "            dict_res[\"rep\"].append(_get_rep(ofil))\n",
    "        _get_rep = lambda p: int(p.stem.split(\"_\")[1])\n",
    "        ores_dir = RES_ROOT/f\"simuLCPHETERO_{setting}_d{d}_n10000_c0\"\n",
    "        ofils = list(ores_dir.glob(\"*other*.pkl\"));\n",
    "        \n",
    "        other_res = ddict(list);\n",
    "        for ofil in ofils:\n",
    "            res = load_pkl(ofil, verbose=False);\n",
    "            for ky in res.keys():\n",
    "                _add_ores(res, key=ky, dict_res=other_res)\n",
    "        other_res_df = pd.DataFrame(other_res);\n",
    "        other_res_df[\"data_set\"] = other_res_df[\"method\"].map(_get_dataset)\n",
    "        other_res_df[\"method_raw\"] = other_res_df[\"method\"].map(_raw_method)\n",
    "        \n",
    "        \n",
    "        # DDIM and MLP and naive results (no LCP)\n",
    "        our_res_df0 = our_res_df[our_res_df[\"c\"]==0].copy();\n",
    "        our_res_df0[\"method_raw\"] = our_res_df0[\"method_raw\"].apply(lambda x: x[1:] if x.startswith(\"L\") else x)\n",
    "        # LDDIM results\n",
    "        tmp_idx = our_res_df.apply(lambda x: \"naive\" not in x[\"method\"], axis=1)\n",
    "        our_res_df1 = our_res_df[tmp_idx].copy();\n",
    "        our_res_df1.index = np.arange(0, our_res_df1.shape[0])\n",
    "        \n",
    "        \n",
    "        # get opt obs based on val set\n",
    "        def _get_opt_obs_given_repix(rep_ix, data_set, all_res_df, method_key=\"DDPM\", cutoff=None):\n",
    "            cols = [\"method_raw\", \"lr\", \"n_infeat\", \"n_T\", \n",
    "                    \"weight_decay\", \"upblk\", \"downblk\", \n",
    "                    \"rep\", \"c\", \"nep\", \"data_set\"]\n",
    "            kpidx = np.bitwise_and(all_res_df[\"rep\"] == rep_ix, all_res_df[\"is_val\"])\n",
    "            kpidx = np.bitwise_and(kpidx, all_res_df[\"method_raw\"]==method_key)\n",
    "            kpidx = np.bitwise_and(kpidx, all_res_df[\"data_set\"]==data_set)\n",
    "            \n",
    "            if cutoff is not None:\n",
    "                kpidx1 = np.bitwise_and(kpidx, all_res_df[\"ITE\"]>cutoff)\n",
    "            if kpidx1.sum() > 0:\n",
    "                kpidx = kpidx1\n",
    "                best_val = all_res_df[kpidx].sort_values(by=\"Len\").iloc[0]\n",
    "            else:\n",
    "                # if not ITE > target, use the one with largest ITE\n",
    "                best_val = all_res_df[kpidx].sort_values(by=\"ITE\").iloc[-1]\n",
    "                \n",
    "            mask = np.ones(all_res_df.shape[0], dtype=bool)\n",
    "            mask = np.bitwise_and(mask, all_res_df[\"is_val\"] == False)\n",
    "            for col in cols:\n",
    "                v = best_val[col]\n",
    "                mask = np.bitwise_and(mask, all_res_df[col] == v)\n",
    "            return all_res_df[mask]\n",
    "        \n",
    "        data_sets = [\"set1\"]\n",
    "        best_res = []\n",
    "        cutoff = 0.95\n",
    "        for cur_rep in list(set(our_res_df1[\"rep\"])):\n",
    "            for data_set in data_sets:\n",
    "                best_res.append(_get_opt_obs_given_repix(cur_rep, data_set, our_res_df0, \"naive\", cutoff))\n",
    "                best_res.append(_get_opt_obs_given_repix(cur_rep, data_set, our_res_df0, \"DDIM\", cutoff))\n",
    "                best_res.append(_get_opt_obs_given_repix(cur_rep, data_set, our_res_df0, \"MLP\", cutoff))\n",
    "                best_res.append(_get_opt_obs_given_repix(cur_rep, data_set, our_res_df1, \"LDDIM\", cutoff))\n",
    "            \n",
    "        best_res = pd.concat(best_res);\n",
    "        \n",
    "        kp_cols = [\"Len\", \"ITE\", \"method_raw\", \"rep\", \"data_set\"]\n",
    "        # put the results together\n",
    "        all_res_df = pd.concat([best_res[kp_cols], other_res_df[kp_cols]])\n",
    "        save_pkl(MID_ROOT/f\"tmpdf_{setting}_d{d}_lcpw0.pkl\", all_res_df);"
   ]
  },
  {
   "cell_type": "code",
   "execution_count": null,
   "id": "8dfc19bc-d907-4a8b-b58b-b419b47a6cd2",
   "metadata": {},
   "outputs": [],
   "source": []
  }
 ],
 "metadata": {
  "kernelspec": {
   "display_name": "Python 3 (ipykernel)",
   "language": "python",
   "name": "python3"
  },
  "language_info": {
   "codemirror_mode": {
    "name": "ipython",
    "version": 3
   },
   "file_extension": ".py",
   "mimetype": "text/x-python",
   "name": "python",
   "nbconvert_exporter": "python",
   "pygments_lexer": "ipython3",
   "version": "3.9.7"
  },
  "toc-autonumbering": true
 },
 "nbformat": 4,
 "nbformat_minor": 5
}
