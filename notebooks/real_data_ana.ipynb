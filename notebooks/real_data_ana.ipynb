{
 "cells": [
  {
   "cell_type": "code",
   "execution_count": 1,
   "id": "7be37593-bf50-4fc1-b617-ff93ca3fb707",
   "metadata": {
    "execution": {
     "iopub.execute_input": "2024-05-16T22:41:12.432347Z",
     "iopub.status.busy": "2024-05-16T22:41:12.431627Z",
     "iopub.status.idle": "2024-05-16T22:41:12.447104Z",
     "shell.execute_reply": "2024-05-16T22:41:12.445648Z",
     "shell.execute_reply.started": "2024-05-16T22:41:12.432301Z"
    },
    "tags": []
   },
   "outputs": [],
   "source": [
    "import sys\n",
    "sys.path.append(\"../mypkg\")"
   ]
  },
  {
   "cell_type": "code",
   "execution_count": 2,
   "id": "91ac97e6-00aa-46a1-85cb-5b2a3c41e0e0",
   "metadata": {
    "execution": {
     "iopub.execute_input": "2024-05-16T22:41:12.449217Z",
     "iopub.status.busy": "2024-05-16T22:41:12.448484Z",
     "iopub.status.idle": "2024-05-16T22:41:13.897832Z",
     "shell.execute_reply": "2024-05-16T22:41:13.896605Z",
     "shell.execute_reply.started": "2024-05-16T22:41:12.449173Z"
    },
    "tags": []
   },
   "outputs": [],
   "source": [
    "from constants import RES_ROOT, FIG_ROOT, DATA_ROOT, MID_ROOT\n",
    "from utils.misc import load_pkl, save_pkl, merge_intervals\n",
    "from utils.colors import qual_cmap\n",
    "from utils.stats import weighted_quantile"
   ]
  },
  {
   "cell_type": "code",
   "execution_count": 3,
   "id": "f1775f04-ea35-40dc-90e8-61a284a9daf2",
   "metadata": {
    "execution": {
     "iopub.execute_input": "2024-05-16T22:41:13.899819Z",
     "iopub.status.busy": "2024-05-16T22:41:13.899396Z",
     "iopub.status.idle": "2024-05-16T22:41:13.916630Z",
     "shell.execute_reply": "2024-05-16T22:41:13.916205Z",
     "shell.execute_reply.started": "2024-05-16T22:41:13.899794Z"
    },
    "tags": []
   },
   "outputs": [],
   "source": [
    "%load_ext autoreload\n",
    "%autoreload 2\n",
    "# 0,1, 2, 3, be careful about the space"
   ]
  },
  {
   "cell_type": "code",
   "execution_count": 4,
   "id": "90d1fe06-f921-466f-a1c5-32f8f1e438f3",
   "metadata": {
    "execution": {
     "iopub.execute_input": "2024-05-16T22:41:13.917302Z",
     "iopub.status.busy": "2024-05-16T22:41:13.917151Z",
     "iopub.status.idle": "2024-05-16T22:41:15.644987Z",
     "shell.execute_reply": "2024-05-16T22:41:15.644167Z",
     "shell.execute_reply.started": "2024-05-16T22:41:13.917290Z"
    },
    "tags": []
   },
   "outputs": [],
   "source": [
    "import torch\n",
    "import scipy.stats as ss\n",
    "import numpy as np\n",
    "from easydict import EasyDict as edict\n",
    "import matplotlib.pyplot as plt\n",
    "import seaborn as sns\n",
    "from collections import defaultdict as ddict\n",
    "from tqdm import tqdm, trange\n",
    "import random\n",
    "from joblib import Parallel, delayed\n",
    "import pandas as pd\n",
    "from pprint import pprint\n",
    "plt.style.use(FIG_ROOT/\"base.mplstyle\")"
   ]
  },
  {
   "cell_type": "code",
   "execution_count": 5,
   "id": "e79682dc-16fa-4f9e-95e8-29db9892a33c",
   "metadata": {
    "execution": {
     "iopub.execute_input": "2024-05-16T22:41:15.646431Z",
     "iopub.status.busy": "2024-05-16T22:41:15.646126Z",
     "iopub.status.idle": "2024-05-16T22:41:15.662482Z",
     "shell.execute_reply": "2024-05-16T22:41:15.662082Z",
     "shell.execute_reply.started": "2024-05-16T22:41:15.646414Z"
    },
    "tags": []
   },
   "outputs": [],
   "source": [
    "pd.set_option('display.float_format', '{:.3f}'.format)"
   ]
  },
  {
   "cell_type": "code",
   "execution_count": 6,
   "id": "ada9ae7b-954d-461a-bcce-02c928261ac2",
   "metadata": {
    "execution": {
     "iopub.execute_input": "2024-05-16T22:41:16.373017Z",
     "iopub.status.busy": "2024-05-16T22:41:16.372093Z",
     "iopub.status.idle": "2024-05-16T22:41:16.411703Z",
     "shell.execute_reply": "2024-05-16T22:41:16.410596Z",
     "shell.execute_reply.started": "2024-05-16T22:41:16.372970Z"
    },
    "tags": []
   },
   "outputs": [],
   "source": [
    "from collections import defaultdict as ddict\n",
    "def fil_name2paras(fil_name):\n",
    "    \"\"\"plz be careful about 0.1 and 1\n",
    "    \"\"\"\n",
    "    tmp = fil_name.split(\"_\")\n",
    "    paras = {}\n",
    "    for itm in tmp:\n",
    "        if '--' in itm:\n",
    "            k, v = itm.split(\"--\")\n",
    "            v = f\"0.{v}\"\n",
    "        elif '-' in itm:\n",
    "            k, v = itm.split(\"-\")\n",
    "            # to be compatible with old simu\n",
    "            if v.startswith(\"0\"):\n",
    "                v = f\"0.{v}\"\n",
    "        else:\n",
    "            continue\n",
    "        \n",
    "        if k.startswith(\"T\"):\n",
    "            k = \"n_T\"\n",
    "        elif k.startswith(\"decay\"):\n",
    "            k = \"weight_decay\"\n",
    "        elif k.startswith(\"infeat\"):\n",
    "            k = \"n_infeat\"\n",
    "        paras[k] = float(v)\n",
    "    paras[\"rep\"] = int(tmp[1])\n",
    "    return paras\n"
   ]
  },
  {
   "cell_type": "code",
   "execution_count": 7,
   "id": "49e2cb17-6351-42eb-829d-20521025ad29",
   "metadata": {
    "execution": {
     "iopub.execute_input": "2024-05-16T22:41:16.751426Z",
     "iopub.status.busy": "2024-05-16T22:41:16.750788Z",
     "iopub.status.idle": "2024-05-16T22:41:16.786862Z",
     "shell.execute_reply": "2024-05-16T22:41:16.786278Z",
     "shell.execute_reply.started": "2024-05-16T22:41:16.751383Z"
    },
    "tags": []
   },
   "outputs": [
    {
     "data": {
      "text/plain": [
       "[0, 0.02, 0.04, 0.06, 0.08, 0.1, 0.2, 0.4, 0.8, 1.2]"
      ]
     },
     "execution_count": 7,
     "metadata": {},
     "output_type": "execute_result"
    }
   ],
   "source": [
    "cs = [0, 0.02, 0.04, 0.06, 0.08, 0.1, 0.2, 0.4, 0.8, 1.2]"
   ]
  },
  {
   "cell_type": "code",
   "execution_count": 10,
   "id": "5ade2d7d-56d6-4c9f-80b9-f1202033f091",
   "metadata": {
    "execution": {
     "iopub.execute_input": "2024-05-16T22:42:06.008584Z",
     "iopub.status.busy": "2024-05-16T22:42:06.007980Z",
     "iopub.status.idle": "2024-05-16T22:42:07.488677Z",
     "shell.execute_reply": "2024-05-16T22:42:07.487815Z",
     "shell.execute_reply.started": "2024-05-16T22:42:06.008540Z"
    },
    "tags": []
   },
   "outputs": [],
   "source": [
    "# get results of DDIM and naive\n",
    "def _add_res(res, key, dict_res):\n",
    "    if key not in res.keys():\n",
    "        key = \"L\" + key\n",
    "        if key not in res.keys():\n",
    "            return None\n",
    "    dict_res[\"Len\"].append(res[key][-1])\n",
    "    dict_res[\"ITE\"].append(res[key][0])\n",
    "    if key.startswith(\"DDIM\"):\n",
    "        dict_res[\"method\"].append(\"L\"+key)\n",
    "    else:\n",
    "        dict_res[\"method\"].append(key)\n",
    "    for ky, v in cur_paras.items():\n",
    "        dict_res[ky].append(v)\n",
    "    dict_res[\"c\"].append(c)\n",
    "        \n",
    "our_res = ddict(list)\n",
    "for c in cs:\n",
    "    res_dir = RES_ROOT/f\"realdata_n10000_c{c*100:.0f}\"\n",
    "    all_fils = list(res_dir.glob(\"*n_T-*.pkl\"));\n",
    "    for fil in all_fils:\n",
    "        cur_paras = fil_name2paras(fil.stem);\n",
    "        res = load_pkl(fil, verbose=False);\n",
    "        \n",
    "        for ky in res.keys():\n",
    "            _add_res(res, key=ky, dict_res=our_res)\n",
    "        \n",
    "our_res_df = pd.DataFrame(our_res);"
   ]
  },
  {
   "cell_type": "code",
   "execution_count": 11,
   "id": "6cb0b0ee-94d6-4454-aed0-10b998bed25f",
   "metadata": {
    "execution": {
     "iopub.execute_input": "2024-05-16T22:42:12.781451Z",
     "iopub.status.busy": "2024-05-16T22:42:12.780820Z",
     "iopub.status.idle": "2024-05-16T22:42:12.881394Z",
     "shell.execute_reply": "2024-05-16T22:42:12.880752Z",
     "shell.execute_reply.started": "2024-05-16T22:42:12.781407Z"
    },
    "tags": []
   },
   "outputs": [],
   "source": [
    "def _get_dataset(name):\n",
    "    name = name.split(\"_ep\")[0].split(\"_val\")[0]\n",
    "    if name.endswith(\"1\"):\n",
    "        dat_set = \"set1\"\n",
    "    elif name.endswith(\"2\"):\n",
    "        dat_set = \"set2\"\n",
    "    elif name.endswith(\"2c\"):\n",
    "        dat_set = \"set2c\"\n",
    "    else:\n",
    "        dat_set = \"all_data\"\n",
    "    return dat_set\n",
    "\n",
    "def _get_nep(x):\n",
    "    vs = x.split(\"_ep\")\n",
    "    if len(vs) == 1:\n",
    "        return 2000\n",
    "    elif len(vs) == 2:\n",
    "        return int(vs[1].split(\"_\")[0])\n",
    "_raw_method=lambda x: x.split(\"_\")[0].split(\"1\")[0].split(\"2\")[0]\n",
    "our_res_df[\"data_set\"] = our_res_df[\"method\"].map(_get_dataset);\n",
    "our_res_df[\"is_val\"] = our_res_df[\"method\"].map(lambda x: x.endswith(\"val\"));\n",
    "our_res_df[\"nep\"] = our_res_df[\"method\"].map(_get_nep);\n",
    "our_res_df[\"method_raw\"] = our_res_df[\"method\"].map(_raw_method)"
   ]
  },
  {
   "cell_type": "code",
   "execution_count": 12,
   "id": "84401030-56f7-4e9e-a7e9-fd1371324a23",
   "metadata": {
    "execution": {
     "iopub.execute_input": "2024-05-16T22:42:17.594927Z",
     "iopub.status.busy": "2024-05-16T22:42:17.594331Z",
     "iopub.status.idle": "2024-05-16T22:42:17.810110Z",
     "shell.execute_reply": "2024-05-16T22:42:17.808824Z",
     "shell.execute_reply.started": "2024-05-16T22:42:17.594858Z"
    },
    "tags": []
   },
   "outputs": [],
   "source": [
    "# results of CQR and CF\n",
    "def _add_ores(res, key, dict_res):\n",
    "    if key not in res.keys():\n",
    "        return None\n",
    "    dict_res[\"Len\"].append(res[key][-1])\n",
    "    dict_res[\"ITE\"].append(res[key][0])\n",
    "    dict_res[\"method\"].append(key)\n",
    "    dict_res[\"rep\"].append(_get_rep(ofil))\n",
    "_get_rep = lambda p: int(p.stem.split(\"_\")[1])\n",
    "ores_dir = RES_ROOT/f\"realdata_n10000_c40\"\n",
    "ofils = list(ores_dir.glob(\"*other*.pkl\"));\n",
    "\n",
    "other_res = ddict(list);\n",
    "for ofil in ofils:\n",
    "    res = load_pkl(ofil, verbose=False);\n",
    "    for ky in res.keys():\n",
    "        _add_ores(res, key=ky, dict_res=other_res)\n",
    "other_res_df = pd.DataFrame(other_res);\n",
    "other_res_df[\"data_set\"] = other_res_df[\"method\"].map(_get_dataset)\n",
    "other_res_df[\"method_raw\"] = other_res_df[\"method\"].map(_raw_method)"
   ]
  },
  {
   "cell_type": "code",
   "execution_count": 13,
   "id": "c73c2c7d-f1c6-4d18-92eb-4d5968289874",
   "metadata": {
    "execution": {
     "iopub.execute_input": "2024-05-16T22:42:20.919933Z",
     "iopub.status.busy": "2024-05-16T22:42:20.919255Z",
     "iopub.status.idle": "2024-05-16T22:42:20.957802Z",
     "shell.execute_reply": "2024-05-16T22:42:20.957178Z",
     "shell.execute_reply.started": "2024-05-16T22:42:20.919877Z"
    },
    "tags": []
   },
   "outputs": [],
   "source": [
    "# DDIM and MLP and naive results (no LCP)\n",
    "our_res_df0 = our_res_df[our_res_df[\"c\"]==0].copy();\n",
    "our_res_df0[\"method_raw\"] = our_res_df0[\"method_raw\"].apply(lambda x: x[1:] if x.startswith(\"L\") else x)"
   ]
  },
  {
   "cell_type": "code",
   "execution_count": null,
   "id": "e6372865-d446-4ef5-b2ad-44436598d75a",
   "metadata": {},
   "outputs": [],
   "source": []
  },
  {
   "cell_type": "markdown",
   "id": "73cac2ca-b9cd-4465-b3ea-91316bcf84c9",
   "metadata": {},
   "source": [
    "# Select com for each rep"
   ]
  },
  {
   "cell_type": "code",
   "execution_count": 14,
   "id": "492f54bf-51d8-4096-af52-d887d43f09d9",
   "metadata": {
    "execution": {
     "iopub.execute_input": "2024-05-16T22:42:23.374953Z",
     "iopub.status.busy": "2024-05-16T22:42:23.374270Z",
     "iopub.status.idle": "2024-05-16T22:42:23.415248Z",
     "shell.execute_reply": "2024-05-16T22:42:23.414629Z",
     "shell.execute_reply.started": "2024-05-16T22:42:23.374908Z"
    },
    "tags": []
   },
   "outputs": [],
   "source": [
    "# get opt obs based on val set\n",
    "def _get_opt_obs_given_repix(rep_ix, data_set, all_res_df, method_key=\"DDPM\", cutoff=None):\n",
    "    cols = [\"method_raw\", \"lr\", \"n_infeat\", \"n_T\", \n",
    "            \"weight_decay\", \"upblk\", \"downblk\", \n",
    "            \"rep\", \"c\", \"nep\", \"data_set\"]\n",
    "    kpidx = np.bitwise_and(all_res_df[\"rep\"] == rep_ix, all_res_df[\"is_val\"])\n",
    "    kpidx = np.bitwise_and(kpidx, all_res_df[\"method_raw\"]==method_key)\n",
    "    kpidx = np.bitwise_and(kpidx, all_res_df[\"data_set\"]==data_set)\n",
    "    \n",
    "    if cutoff is not None:\n",
    "        kpidx1 = np.bitwise_and(kpidx, all_res_df[\"ITE\"]>cutoff)\n",
    "    if kpidx1.sum() > 0:\n",
    "        kpidx = kpidx1\n",
    "        best_val = all_res_df[kpidx].sort_values(by=\"Len\").iloc[0]\n",
    "    else:\n",
    "        # if not ITE > target, use the one with largest ITE\n",
    "        best_val = all_res_df[kpidx].sort_values(by=\"ITE\").iloc[-1]\n",
    "        \n",
    "    mask = np.ones(all_res_df.shape[0], dtype=bool)\n",
    "    mask = np.bitwise_and(mask, all_res_df[\"is_val\"] == False)\n",
    "    for col in cols:\n",
    "        v = best_val[col]\n",
    "        mask = np.bitwise_and(mask, all_res_df[col] == v)\n",
    "    return all_res_df[mask]"
   ]
  },
  {
   "cell_type": "code",
   "execution_count": 23,
   "id": "37a9ed14-534b-4ebb-9f69-f0c26f7210ec",
   "metadata": {
    "execution": {
     "iopub.execute_input": "2024-05-16T22:44:56.005884Z",
     "iopub.status.busy": "2024-05-16T22:44:56.005245Z",
     "iopub.status.idle": "2024-05-16T22:44:56.690402Z",
     "shell.execute_reply": "2024-05-16T22:44:56.689852Z",
     "shell.execute_reply.started": "2024-05-16T22:44:56.005837Z"
    },
    "tags": []
   },
   "outputs": [],
   "source": [
    "data_sets = [\"set1\"]\n",
    "best_res = []\n",
    "cutoff = 0.95\n",
    "for cur_rep in list(set(our_res_df[\"rep\"])):\n",
    "    for data_set in data_sets:\n",
    "        best_res.append(_get_opt_obs_given_repix(cur_rep, data_set, our_res_df0, \"DDIM\", cutoff))\n",
    "        best_res.append(_get_opt_obs_given_repix(cur_rep, data_set, our_res_df0, \"naive\", cutoff))\n",
    "        best_res.append(_get_opt_obs_given_repix(cur_rep, data_set, our_res_df0, \"MLP\", cutoff))\n",
    "        best_res.append(_get_opt_obs_given_repix(cur_rep, data_set, our_res_df, \"LDDIM\", cutoff))\n",
    "    \n",
    "best_res = pd.concat(best_res);"
   ]
  },
  {
   "cell_type": "code",
   "execution_count": 29,
   "id": "1105e491-1adc-444d-80a2-cf1a3112097b",
   "metadata": {
    "execution": {
     "iopub.execute_input": "2024-05-16T22:48:52.779839Z",
     "iopub.status.busy": "2024-05-16T22:48:52.779223Z",
     "iopub.status.idle": "2024-05-16T22:48:52.911448Z",
     "shell.execute_reply": "2024-05-16T22:48:52.910343Z",
     "shell.execute_reply.started": "2024-05-16T22:48:52.779793Z"
    },
    "tags": []
   },
   "outputs": [],
   "source": [
    "kp_cols = [\"Len\", \"ITE\", \"method_raw\", \"rep\", \"data_set\"]\n",
    "# put the results together\n",
    "all_res_df = pd.concat([best_res[kp_cols], other_res_df[kp_cols]])\n",
    "\n",
    "res = all_res_df.groupby([\"method_raw\", \"data_set\"])[[\"Len\", \"ITE\"]].agg([\"mean\", \"std\", \"count\"])\n",
    "\n",
    "ky = \"ITE\"\n",
    "res[(\"Coverage\", \"Low\")] = res[(ky, \"mean\")] - 1.96*res[(ky, \"std\")]/np.sqrt(res[(ky, \"count\")])\n",
    "res[(\"Coverage\", \"Est\")] = res[(ky, \"mean\")] \n",
    "res[(\"Coverage\", \"High\")] = res[(ky, \"mean\")] + 1.96*res[(ky, \"std\")]/np.sqrt(res[(ky, \"count\")])\n",
    "\n",
    "ky = \"Len\"\n",
    "res[(\"Len of Interval\", \"Low\")] = res[(ky, \"mean\")] - 1.96*res[(ky, \"std\")]/np.sqrt(res[(ky, \"count\")])\n",
    "res[(\"Len of Interval\", \"Est\")] = res[(ky, \"mean\")] \n",
    "res[(\"Len of Interval\", \"High\")] = res[(ky, \"mean\")] + 1.96*res[(ky, \"std\")]/np.sqrt(res[(ky, \"count\")])"
   ]
  },
  {
   "cell_type": "code",
   "execution_count": 30,
   "id": "ef826da4-5b1b-4c33-b9d7-203d30d35534",
   "metadata": {
    "execution": {
     "iopub.execute_input": "2024-05-16T22:48:53.317024Z",
     "iopub.status.busy": "2024-05-16T22:48:53.316461Z",
     "iopub.status.idle": "2024-05-16T22:48:53.353804Z",
     "shell.execute_reply": "2024-05-16T22:48:53.353130Z",
     "shell.execute_reply.started": "2024-05-16T22:48:53.316980Z"
    },
    "tags": []
   },
   "outputs": [],
   "source": [
    "kycols = [v for v in res.columns if v[0] in [\"Coverage\", \"Len of Interval\"]]\n",
    "kyrows = [v for v in res.index if v[-1]==\"set1\"];"
   ]
  },
  {
   "cell_type": "code",
   "execution_count": 31,
   "id": "6cd4e838-a84f-4042-8a6b-9e3781a5f80a",
   "metadata": {
    "execution": {
     "iopub.execute_input": "2024-05-16T22:48:54.192903Z",
     "iopub.status.busy": "2024-05-16T22:48:54.192250Z",
     "iopub.status.idle": "2024-05-16T22:48:54.235779Z",
     "shell.execute_reply": "2024-05-16T22:48:54.235137Z",
     "shell.execute_reply.started": "2024-05-16T22:48:54.192848Z"
    },
    "tags": []
   },
   "outputs": [
    {
     "data": {
      "text/html": [
       "<div>\n",
       "<style scoped>\n",
       "    .dataframe tbody tr th:only-of-type {\n",
       "        vertical-align: middle;\n",
       "    }\n",
       "\n",
       "    .dataframe tbody tr th {\n",
       "        vertical-align: top;\n",
       "    }\n",
       "\n",
       "    .dataframe thead tr th {\n",
       "        text-align: left;\n",
       "    }\n",
       "\n",
       "    .dataframe thead tr:last-of-type th {\n",
       "        text-align: right;\n",
       "    }\n",
       "</style>\n",
       "<table border=\"1\" class=\"dataframe\">\n",
       "  <thead>\n",
       "    <tr>\n",
       "      <th></th>\n",
       "      <th></th>\n",
       "      <th colspan=\"3\" halign=\"left\">Coverage</th>\n",
       "      <th colspan=\"3\" halign=\"left\">Len of Interval</th>\n",
       "    </tr>\n",
       "    <tr>\n",
       "      <th></th>\n",
       "      <th></th>\n",
       "      <th>Low</th>\n",
       "      <th>Est</th>\n",
       "      <th>High</th>\n",
       "      <th>Low</th>\n",
       "      <th>Est</th>\n",
       "      <th>High</th>\n",
       "    </tr>\n",
       "    <tr>\n",
       "      <th>method_raw</th>\n",
       "      <th>data_set</th>\n",
       "      <th></th>\n",
       "      <th></th>\n",
       "      <th></th>\n",
       "      <th></th>\n",
       "      <th></th>\n",
       "      <th></th>\n",
       "    </tr>\n",
       "  </thead>\n",
       "  <tbody>\n",
       "    <tr>\n",
       "      <th>CF</th>\n",
       "      <th>set1</th>\n",
       "      <td>0.110</td>\n",
       "      <td>0.119</td>\n",
       "      <td>0.127</td>\n",
       "      <td>0.237</td>\n",
       "      <td>0.242</td>\n",
       "      <td>0.247</td>\n",
       "    </tr>\n",
       "    <tr>\n",
       "      <th>CQR</th>\n",
       "      <th>set1</th>\n",
       "      <td>0.920</td>\n",
       "      <td>0.927</td>\n",
       "      <td>0.935</td>\n",
       "      <td>3.162</td>\n",
       "      <td>3.191</td>\n",
       "      <td>3.220</td>\n",
       "    </tr>\n",
       "    <tr>\n",
       "      <th>DDIM</th>\n",
       "      <th>set1</th>\n",
       "      <td>0.847</td>\n",
       "      <td>0.858</td>\n",
       "      <td>0.869</td>\n",
       "      <td>3.044</td>\n",
       "      <td>3.092</td>\n",
       "      <td>3.140</td>\n",
       "    </tr>\n",
       "    <tr>\n",
       "      <th>LDDIM</th>\n",
       "      <th>set1</th>\n",
       "      <td>0.938</td>\n",
       "      <td>0.948</td>\n",
       "      <td>0.957</td>\n",
       "      <td>4.790</td>\n",
       "      <td>5.066</td>\n",
       "      <td>5.341</td>\n",
       "    </tr>\n",
       "    <tr>\n",
       "      <th>MLP</th>\n",
       "      <th>set1</th>\n",
       "      <td>0.836</td>\n",
       "      <td>0.847</td>\n",
       "      <td>0.859</td>\n",
       "      <td>2.866</td>\n",
       "      <td>2.896</td>\n",
       "      <td>2.926</td>\n",
       "    </tr>\n",
       "    <tr>\n",
       "      <th>naive</th>\n",
       "      <th>set1</th>\n",
       "      <td>0.596</td>\n",
       "      <td>0.615</td>\n",
       "      <td>0.635</td>\n",
       "      <td>1.656</td>\n",
       "      <td>1.705</td>\n",
       "      <td>1.754</td>\n",
       "    </tr>\n",
       "  </tbody>\n",
       "</table>\n",
       "</div>"
      ],
      "text/plain": [
       "                    Coverage             Len of Interval            \n",
       "                         Low   Est  High             Low   Est  High\n",
       "method_raw data_set                                                 \n",
       "CF         set1        0.110 0.119 0.127           0.237 0.242 0.247\n",
       "CQR        set1        0.920 0.927 0.935           3.162 3.191 3.220\n",
       "DDIM       set1        0.847 0.858 0.869           3.044 3.092 3.140\n",
       "LDDIM      set1        0.938 0.948 0.957           4.790 5.066 5.341\n",
       "MLP        set1        0.836 0.847 0.859           2.866 2.896 2.926\n",
       "naive      set1        0.596 0.615 0.635           1.656 1.705 1.754"
      ]
     },
     "execution_count": 31,
     "metadata": {},
     "output_type": "execute_result"
    }
   ],
   "source": [
    "res[kycols].loc[kyrows]"
   ]
  },
  {
   "cell_type": "code",
   "execution_count": null,
   "id": "57e02fb6-3b6c-43fa-9870-ca8a37224e98",
   "metadata": {},
   "outputs": [],
   "source": []
  }
 ],
 "metadata": {
  "kernelspec": {
   "display_name": "Python 3 (ipykernel)",
   "language": "python",
   "name": "python3"
  },
  "language_info": {
   "codemirror_mode": {
    "name": "ipython",
    "version": 3
   },
   "file_extension": ".py",
   "mimetype": "text/x-python",
   "name": "python",
   "nbconvert_exporter": "python",
   "pygments_lexer": "ipython3",
   "version": "3.9.7"
  },
  "toc-autonumbering": true
 },
 "nbformat": 4,
 "nbformat_minor": 5
}
